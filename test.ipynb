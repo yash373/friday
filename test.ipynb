{
 "cells": [
  {
   "cell_type": "code",
   "execution_count": 1,
   "metadata": {},
   "outputs": [
    {
     "name": "stderr",
     "output_type": "stream",
     "text": [
      "d:\\Projects\\friday\\env\\Lib\\site-packages\\tqdm\\auto.py:21: TqdmWarning: IProgress not found. Please update jupyter and ipywidgets. See https://ipywidgets.readthedocs.io/en/stable/user_install.html\n",
      "  from .autonotebook import tqdm as notebook_tqdm\n"
     ]
    }
   ],
   "source": [
    "import torch\n",
    "from transformers import pipeline"
   ]
  },
  {
   "cell_type": "code",
   "execution_count": 2,
   "metadata": {},
   "outputs": [],
   "source": [
    "model_id = \"meta-llama/Llama-3.2-1B-Instruct\"\n",
    "pipe = pipeline(\n",
    "    \"text-generation\",\n",
    "    model=model_id,\n",
    "    torch_dtype=torch.bfloat16,\n",
    "    device_map=\"auto\",\n",
    ")"
   ]
  },
  {
   "cell_type": "code",
   "execution_count": 3,
   "metadata": {},
   "outputs": [],
   "source": [
    "base = \"\"\"\n",
    "    You are an AI who has been tasked with operating a computer to accomplish a specific task given to you by the user.\\n\n",
    "You are alloted three activities you can perform. \\n\n",
    "All of the activities that you will be answering me will be in the form 'func,input;func,input...'.\n",
    "1. Speak: func -> speak, val -> text you want to speak. This function when read by the interpreter will read out a message for the user. \\n\n",
    "2. Type: func -> type, val -> text you want to type. This function types text.\n",
    "3. Hotkeys: func -> hkey, val -> hot key you want to use. This function executes a hotkey.\n",
    "\n",
    "Note: These actions will be performed on a windows machine.\n",
    "\n",
    "List of handy shortcuts on windows\n",
    "### Frequently Used Shortcuts\n",
    "1. **Open a document**: Ctrl+O\n",
    "2. **Create a new document**: Ctrl+N\n",
    "3. **Save the document**: Ctrl+S\n",
    "4. **Close the document**: Ctrl+W\n",
    "5. **Cut the selected content to the Clipboard**: Ctrl+X\n",
    "6. **Copy the selected content to the Clipboard**: Ctrl+C\n",
    "7. **Paste the contents of the Clipboard**: Ctrl+V\n",
    "8. **Select all document content**: Ctrl+A\n",
    "9. **Apply bold formatting to text**: Ctrl+B\n",
    "10. **Apply italic formatting to text**: Ctrl+I\n",
    "11. **Apply underline formatting to text**: Ctrl+U\n",
    "12. **Decrease the font size by 1 point**: Ctrl+Left bracket ([)\n",
    "13. **Increase the font size by 1 point**: Ctrl+Right bracket (])\n",
    "14. **Center the text**: Ctrl+E\n",
    "15. **Align the text to the left**: Ctrl+L\n",
    "16. **Align the text to the right**: Ctrl+R\n",
    "17. **Cancel a command**: Esc\n",
    "18. **Undo the previous action**: Ctrl+Z\n",
    "19. **Redo the previous action, if possible**: Ctrl+Y\n",
    "20. **Adjust the zoom magnification**: Alt+W, Q, then use the Tab key in the Zoom dialog box to go to the value you want.\n",
    "21. **Split the document window**: Ctrl+Alt+S\n",
    "22. **Remove the document window split**: Alt+Shift+C or Ctrl+Alt+S\n",
    "23. **Search bar (taskbar)**: Ctrl+Q\n",
    "\n",
    "### Common Actions in Google Docs\n",
    "1. **Copy**: Ctrl+C\n",
    "2. **Cut**: Ctrl+X\n",
    "3. **Paste**: Ctrl+V\n",
    "4. **Paste without formatting**: Ctrl+Shift+V\n",
    "5. **Undo**: Ctrl+Z\n",
    "6. **Redo**: Ctrl+Shift+Z\n",
    "7. **Insert or edit link**: Ctrl+K\n",
    "8. **Open link**: Alt+Enter\n",
    "9. **Show common keyboard shortcuts**: Ctrl+/\n",
    "10. **Save**: Ctrl+S\n",
    "11. **Print**: Ctrl+P\n",
    "12. **Open**: Ctrl+O\n",
    "13. **Find**: Ctrl+F\n",
    "14. **Find and replace**: Ctrl+H\n",
    "\"\"\""
   ]
  },
  {
   "cell_type": "code",
   "execution_count": 4,
   "metadata": {},
   "outputs": [],
   "source": [
    "messages = [\n",
    "    {\"role\": \"system\", \"content\": base},\n",
    "    # Finetuning\n",
    "    {\"role\": \"user\", \"content\": \"Open wikipedia on chrome\"},\n",
    "    {\"role\": \"system\", \"content\": \"speak,Opening wikipedia on chrome;hkey,win+Q;type,chrome;hkey,enter;type,https://www.wikipedia.org/\"},\n",
    "    {\"role\": \"user\", \"content\": \"Turn on dark mode\"},\n",
    "    {\"role\": \"system\", \"content\": \"speak,Turning on dark mode;hkey,win+i;type,turn on dark mode systemwide;hkey,enter;hkey,tab;hkey,enter;hkey,tab;hkey,tab;hkey,enter;hkey,up;hkey,enter\"},\n",
    "    {\"role\": \"user\", \"content\":\"Open youtube on chrome\"},\n",
    "    {\"role\": \"system\", \"content\": \"speak,opening youtube on chrome;hkey,win+Q,type,chrome;hkey,enter;type,youtube.com\"},\n",
    "    {\"role\": \"user\", \"content\":\"open libreoffice and write an essay on einstein's taste in pets\"},\n",
    "    {\"role\": \"system\", \"content\":\"\"\"speak,writing an essay on einstein's taste in pets;hkey,win+q;type,writer;hkey,enter;type,Albert Einstein, known primarily for his groundbreaking contributions to physics, had a deep affection for animals, which is often an overlooked aspect of his personality. His connection with animals was not merely incidental but was indicative of his gentle and empathetic nature.\n",
    "### Love for Cats\n",
    "Einstein had a particular fondness for cats. He famously said, \"The more I learn about people, the more I like my cat.\" This quote not only reveals his preference for animals over human company at times but also highlights the peace and tranquility he found in feline companionship. He was often seen with his cats, which were known to bring him comfort during stressful periods. One story recounts Einstein feeling sorry for his cat, who seemed sad on a rainy day. He remarked, “I know what's wrong, dear fellow, but I don't know how to turn it off!” This playful yet compassionate interaction illustrates the genuine concern he felt for his pets.\n",
    "\n",
    "### Fondness for Dogs\n",
    "While cats might have been his preferred animal, Einstein's appreciation for dogs was also apparent. Dogs, known for their loyalty and warmth, likely resonated with Einstein's own values of companionship and sincerity. He admired their intelligence and their ability to form deep emotional bonds with humans. It's also reported that he believed dogs were naturally philosophical beings, appreciating their straightforward yet thoughtful nature.\n",
    "\n",
    "### Philosophy of Empathy for All Living Beings\n",
    "Beyond his personal affinity for pets, Einstein's philosophy extended to a broader sense of compassion for all animals. As a pacifist and advocate for non-violence, Einstein's attitude towards animals reflected his overall outlook on life. He was a vegetarian for a portion of his life, driven by ethical reasons, stating that he believed vegetarianism could benefit humanity both physically and morally. His compassion for animals wasn't limited to domestic ones; he felt that the ethical treatment of all living beings was crucial to the advancement of civilization.\n",
    "\n",
    "### Conclusion\n",
    "Einstein's relationship with animals, particularly cats and dogs, reveals a gentler, more human side of the renowned physicist. His love for animals, alongside his deep ethical principles, shows that Einstein valued the emotional depth and companionship that animals could offer. His connection with animals, rooted in empathy, is a reflection of his broader humanitarian beliefs, making it an essential facet of his remarkable life.\"\"\"},\n",
    "{\"role\":\"user\",\"content\":\"open the latest mrbeast video on youtube\"}\n",
    "]"
   ]
  },
  {
   "cell_type": "code",
   "execution_count": 5,
   "metadata": {},
   "outputs": [
    {
     "name": "stderr",
     "output_type": "stream",
     "text": [
      "Setting `pad_token_id` to `eos_token_id`:None for open-end generation.\n"
     ]
    }
   ],
   "source": [
    "outputs = pipe(\n",
    "    messages,\n",
    "    max_new_tokens=256,\n",
    ")\n",
    "print(outputs[0][\"generated_text\"][-1])"
   ]
  }
 ],
 "metadata": {
  "kernelspec": {
   "display_name": "env",
   "language": "python",
   "name": "python3"
  },
  "language_info": {
   "codemirror_mode": {
    "name": "ipython",
    "version": 3
   },
   "file_extension": ".py",
   "mimetype": "text/x-python",
   "name": "python",
   "nbconvert_exporter": "python",
   "pygments_lexer": "ipython3",
   "version": "3.12.6"
  }
 },
 "nbformat": 4,
 "nbformat_minor": 2
}
